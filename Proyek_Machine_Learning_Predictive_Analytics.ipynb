{
  "nbformat": 4,
  "nbformat_minor": 0,
  "metadata": {
    "colab": {
      "name": "Proyek Machine Learning - Predictive Analytics.ipynb",
      "provenance": [],
      "collapsed_sections": []
    },
    "kernelspec": {
      "name": "python3",
      "display_name": "Python 3"
    },
    "language_info": {
      "name": "python"
    }
  },
  "cells": [
    {
      "cell_type": "markdown",
      "metadata": {
        "id": "TcaU2TYA872U"
      },
      "source": [
        "# Proyek Machine Learning - Rifky Bujana Bisri\n",
        "## Stack Overflow Question Quality Rating Prediction\n",
        "situs Community Question Answering (CQA) menjadi salah satu jalan yang cukup populer untuk menyediakan dan mencari informasi. situs CQA menyediakan sebuah antarmuka untuk pengguna menukar dan berbagi pengetahuan. Pengguna menanyakan pertanyaan terhadap suatu topik yang kurang dia pahami, dan mencari seseorang yang ahli untuk memberikan informasi yang diinginkan. (Baltadzhieva & Chrupala, 2015)\n",
        "\n",
        "Stack Overflow adalah sebuah situ CQA dalam lingkup computer programming. Pada Stack Overflow jawaban dipilih berdasarkan kepuasan penanya. Penanya dapat menandai sebuah pertanyaan untuk menunjukkan kepada sebuah subjek spesifik.\n",
        "\n",
        "Namun, dengan meningkatnya popularitas Stack Overflow, jumlah pertanyaan yang tidak terjawab. Berdasarkan statistik pada 2012 saja, diperkirakan terdapat 45 pertanyaan setiap bulan tidak terjawab (Asaduzzaman, 2013). Pada Maret 2014, terdapat 752.533 dari 6.912.743 pertanyaan tidak terjawab (diperkirakan 10,9%) (Baltadzhieva & Chrupala, 2015). Yang menarik, pertanyaan yang tidak dijawab bukan disebabkan karena pengguna tidak melihatnya. Faktanya pertanyaan yang tidak terjawab rata-rata dilihat 139 kali (Asaduzzaman, 2013)."
      ]
    },
    {
      "cell_type": "markdown",
      "metadata": {
        "id": "YbN1tajW9ta3"
      },
      "source": [
        "## Import Library"
      ]
    },
    {
      "cell_type": "code",
      "metadata": {
        "id": "IVErDkRw9vGK"
      },
      "source": [
        "import re\n",
        "import string\n",
        "\n",
        "import tensorflow as tf\n",
        "import pandas as pd\n",
        "import numpy as np\n",
        "import matplotlib.pyplot as plt\n",
        "import seaborn as sns\n",
        "\n",
        "from keras.preprocessing import text, sequence\n",
        "from scipy import stats\n",
        "from sklearn.feature_extraction.text import TfidfVectorizer\n",
        "from sklearn import preprocessing\n",
        "from sklearn.linear_model import LogisticRegression\n",
        "from sklearn.naive_bayes import MultinomialNB\n",
        "from sklearn.model_selection import cross_val_score\n",
        "from sklearn.model_selection import train_test_split\n",
        "from sklearn.feature_extraction.text import CountVectorizer\n",
        "from sklearn.metrics import plot_confusion_matrix, precision_recall_fscore_support"
      ],
      "execution_count": null,
      "outputs": []
    },
    {
      "cell_type": "markdown",
      "metadata": {
        "id": "yjCTL7c99iQ4"
      },
      "source": [
        "## Loading Dataset"
      ]
    },
    {
      "cell_type": "markdown",
      "metadata": {
        "id": "CKQrBonRJ4Nc"
      },
      "source": [
        "Memuat data set dari *Google Drive* untuk digunakan. Data set tersebut sudah terbagi menjadi 2: *train* data set dan *validation* data set."
      ]
    },
    {
      "cell_type": "code",
      "metadata": {
        "id": "3d-Zwg3781Xa"
      },
      "source": [
        "data_path = \"./drive/MyDrive/Dicoding/\""
      ],
      "execution_count": null,
      "outputs": []
    },
    {
      "cell_type": "code",
      "metadata": {
        "id": "6qM7eDlg97Jl"
      },
      "source": [
        "train_df = pd.read_csv(data_path + \"train.csv\")\n",
        "valid_df = pd.read_csv(data_path + \"valid.csv\")"
      ],
      "execution_count": null,
      "outputs": []
    },
    {
      "cell_type": "code",
      "metadata": {
        "id": "AqN0aoj-XjKB"
      },
      "source": [
        "df = pd.concat([train_df, valid_df])"
      ],
      "execution_count": null,
      "outputs": []
    },
    {
      "cell_type": "markdown",
      "metadata": {
        "id": "CxSUFlK7-hQy"
      },
      "source": [
        "## Data Understanding"
      ]
    },
    {
      "cell_type": "markdown",
      "metadata": {
        "id": "zVi4x8HAJunL"
      },
      "source": [
        "Data set yang akan saya gunakan pada proyek ini merupakan dataset berisi enam puluh ribu pertanyaan pada *Stack Overflow* (45.000 *training dataset* dan 15.000 *validation dataset*), lengkap dengan *tag* dan tanggal pertanyaan itu di publish.\n",
        "\n",
        "Dataset ini berisi 6 kolom berbeda: *Id*, *Title*, *Body*, *Tags*, *CreationDate*, dan *Y*. Kolom *Id* berisi identitas dari setiap baris untuk membedakan suatu baris dengan baris lainnya. Kolom *Title* berisi judul dari setiap pertanyaan. Kolom *Body* berisi detail ataupun isi dari pertanyaan yang diajukan dengan format *html*. *Tags* berisi *tags* yang berhubungan dengan pertanyaan tersebut. *CreationDate* berisi tanggal diunggahnya pertanyaan tersebut dengan format *UTC*. Dan kolom *Y* berisi tingkat kualitas pertanyaan yang dibagi menjadi 3, yaitu: *HQ*, *LQ_EDIT*, dan *LQ_CLOSE*.\n",
        "\n",
        "*HQ* merupakan postingan pertanyaan berkualitas tinggi dengan total skor lebih dari 30 dan tanpa diedit sekalipun. *LQ_EDIT* merupakan postingan berkualitas rendah dengan skor negatif dan diedit beberapa kali oleh komunitas. Namun, postingan tersebut masih terbuka setelah diubah oleh komunitas. Sedangkan *LQ_CLOSE* merupakan postingan berkualitas rendah yang ditutup oleh komunitas tanpa diedit sama sekali.\n",
        "\n",
        "[dataset](https://www.kaggle.com/imoore/60k-stack-overflow-questions-with-quality-rate)"
      ]
    },
    {
      "cell_type": "code",
      "metadata": {
        "colab": {
          "base_uri": "https://localhost:8080/",
          "height": 285
        },
        "id": "SaF-dQ89XgkA",
        "outputId": "c834862b-71f9-4f10-cd5d-0fb62e55e4d4"
      },
      "source": [
        "df.head()"
      ],
      "execution_count": null,
      "outputs": [
        {
          "output_type": "execute_result",
          "data": {
            "text/html": [
              "<div>\n",
              "<style scoped>\n",
              "    .dataframe tbody tr th:only-of-type {\n",
              "        vertical-align: middle;\n",
              "    }\n",
              "\n",
              "    .dataframe tbody tr th {\n",
              "        vertical-align: top;\n",
              "    }\n",
              "\n",
              "    .dataframe thead th {\n",
              "        text-align: right;\n",
              "    }\n",
              "</style>\n",
              "<table border=\"1\" class=\"dataframe\">\n",
              "  <thead>\n",
              "    <tr style=\"text-align: right;\">\n",
              "      <th></th>\n",
              "      <th>Id</th>\n",
              "      <th>Title</th>\n",
              "      <th>Body</th>\n",
              "      <th>Tags</th>\n",
              "      <th>CreationDate</th>\n",
              "      <th>Y</th>\n",
              "    </tr>\n",
              "  </thead>\n",
              "  <tbody>\n",
              "    <tr>\n",
              "      <th>0</th>\n",
              "      <td>34552656</td>\n",
              "      <td>Java: Repeat Task Every Random Seconds</td>\n",
              "      <td>&lt;p&gt;I'm already familiar with repeating tasks e...</td>\n",
              "      <td>&lt;java&gt;&lt;repeat&gt;</td>\n",
              "      <td>2016-01-01 00:21:59</td>\n",
              "      <td>LQ_CLOSE</td>\n",
              "    </tr>\n",
              "    <tr>\n",
              "      <th>1</th>\n",
              "      <td>34553034</td>\n",
              "      <td>Why are Java Optionals immutable?</td>\n",
              "      <td>&lt;p&gt;I'd like to understand why Java 8 Optionals...</td>\n",
              "      <td>&lt;java&gt;&lt;optional&gt;</td>\n",
              "      <td>2016-01-01 02:03:20</td>\n",
              "      <td>HQ</td>\n",
              "    </tr>\n",
              "    <tr>\n",
              "      <th>2</th>\n",
              "      <td>34553174</td>\n",
              "      <td>Text Overlay Image with Darkened Opacity React...</td>\n",
              "      <td>&lt;p&gt;I am attempting to overlay a title over an ...</td>\n",
              "      <td>&lt;javascript&gt;&lt;image&gt;&lt;overlay&gt;&lt;react-native&gt;&lt;opa...</td>\n",
              "      <td>2016-01-01 02:48:24</td>\n",
              "      <td>HQ</td>\n",
              "    </tr>\n",
              "    <tr>\n",
              "      <th>3</th>\n",
              "      <td>34553318</td>\n",
              "      <td>Why ternary operator in swift is so picky?</td>\n",
              "      <td>&lt;p&gt;The question is very simple, but I just cou...</td>\n",
              "      <td>&lt;swift&gt;&lt;operators&gt;&lt;whitespace&gt;&lt;ternary-operato...</td>\n",
              "      <td>2016-01-01 03:30:17</td>\n",
              "      <td>HQ</td>\n",
              "    </tr>\n",
              "    <tr>\n",
              "      <th>4</th>\n",
              "      <td>34553755</td>\n",
              "      <td>hide/show fab with scale animation</td>\n",
              "      <td>&lt;p&gt;I'm using custom floatingactionmenu. I need...</td>\n",
              "      <td>&lt;android&gt;&lt;material-design&gt;&lt;floating-action-but...</td>\n",
              "      <td>2016-01-01 05:21:48</td>\n",
              "      <td>HQ</td>\n",
              "    </tr>\n",
              "  </tbody>\n",
              "</table>\n",
              "</div>"
            ],
            "text/plain": [
              "         Id  ...         Y\n",
              "0  34552656  ...  LQ_CLOSE\n",
              "1  34553034  ...        HQ\n",
              "2  34553174  ...        HQ\n",
              "3  34553318  ...        HQ\n",
              "4  34553755  ...        HQ\n",
              "\n",
              "[5 rows x 6 columns]"
            ]
          },
          "metadata": {},
          "execution_count": 134
        }
      ]
    },
    {
      "cell_type": "code",
      "metadata": {
        "colab": {
          "base_uri": "https://localhost:8080/"
        },
        "id": "m1tPBrEnX42S",
        "outputId": "bbc935cb-86d5-45af-ebe7-3db29680999c"
      },
      "source": [
        "df.columns"
      ],
      "execution_count": null,
      "outputs": [
        {
          "output_type": "execute_result",
          "data": {
            "text/plain": [
              "Index(['Id', 'Title', 'Body', 'Tags', 'CreationDate', 'Y'], dtype='object')"
            ]
          },
          "metadata": {},
          "execution_count": 135
        }
      ]
    },
    {
      "cell_type": "markdown",
      "metadata": {
        "id": "Fddjn-9zYM43"
      },
      "source": [
        "Manggabungkan data judul dan isi dari pertanyaan"
      ]
    },
    {
      "cell_type": "code",
      "metadata": {
        "id": "A8O1qxJQYR-4"
      },
      "source": [
        "# combine title and body\n",
        "df['text'] = df['Title'] + \" \" + df['Body']\n",
        "\n",
        "# drop unused columns\n",
        "df.drop(['Id', 'Tags', 'CreationDate', 'Title', 'Body'], axis=1, inplace=True)\n",
        "\n",
        "# rename Y into label\n",
        "df.rename(columns={\"Y\":\"label\"}, inplace=True)"
      ],
      "execution_count": null,
      "outputs": []
    },
    {
      "cell_type": "code",
      "metadata": {
        "colab": {
          "base_uri": "https://localhost:8080/",
          "height": 220
        },
        "id": "qncPBRfEY3Ri",
        "outputId": "67c2dccf-ca04-481f-e7c5-07e442d9fca1"
      },
      "source": [
        "print(\"Total Data: \", len(df))\n",
        "df.head()"
      ],
      "execution_count": null,
      "outputs": [
        {
          "output_type": "stream",
          "name": "stdout",
          "text": [
            "Total Data:  60000\n"
          ]
        },
        {
          "output_type": "execute_result",
          "data": {
            "text/html": [
              "<div>\n",
              "<style scoped>\n",
              "    .dataframe tbody tr th:only-of-type {\n",
              "        vertical-align: middle;\n",
              "    }\n",
              "\n",
              "    .dataframe tbody tr th {\n",
              "        vertical-align: top;\n",
              "    }\n",
              "\n",
              "    .dataframe thead th {\n",
              "        text-align: right;\n",
              "    }\n",
              "</style>\n",
              "<table border=\"1\" class=\"dataframe\">\n",
              "  <thead>\n",
              "    <tr style=\"text-align: right;\">\n",
              "      <th></th>\n",
              "      <th>label</th>\n",
              "      <th>text</th>\n",
              "    </tr>\n",
              "  </thead>\n",
              "  <tbody>\n",
              "    <tr>\n",
              "      <th>0</th>\n",
              "      <td>LQ_CLOSE</td>\n",
              "      <td>Java: Repeat Task Every Random Seconds &lt;p&gt;I'm ...</td>\n",
              "    </tr>\n",
              "    <tr>\n",
              "      <th>1</th>\n",
              "      <td>HQ</td>\n",
              "      <td>Why are Java Optionals immutable? &lt;p&gt;I'd like ...</td>\n",
              "    </tr>\n",
              "    <tr>\n",
              "      <th>2</th>\n",
              "      <td>HQ</td>\n",
              "      <td>Text Overlay Image with Darkened Opacity React...</td>\n",
              "    </tr>\n",
              "    <tr>\n",
              "      <th>3</th>\n",
              "      <td>HQ</td>\n",
              "      <td>Why ternary operator in swift is so picky? &lt;p&gt;...</td>\n",
              "    </tr>\n",
              "    <tr>\n",
              "      <th>4</th>\n",
              "      <td>HQ</td>\n",
              "      <td>hide/show fab with scale animation &lt;p&gt;I'm usin...</td>\n",
              "    </tr>\n",
              "  </tbody>\n",
              "</table>\n",
              "</div>"
            ],
            "text/plain": [
              "      label                                               text\n",
              "0  LQ_CLOSE  Java: Repeat Task Every Random Seconds <p>I'm ...\n",
              "1        HQ  Why are Java Optionals immutable? <p>I'd like ...\n",
              "2        HQ  Text Overlay Image with Darkened Opacity React...\n",
              "3        HQ  Why ternary operator in swift is so picky? <p>...\n",
              "4        HQ  hide/show fab with scale animation <p>I'm usin..."
            ]
          },
          "metadata": {},
          "execution_count": 156
        }
      ]
    },
    {
      "cell_type": "markdown",
      "metadata": {
        "id": "5LTbBp6rZ3hw"
      },
      "source": [
        "Distribusi data untuk setiap kategori, dapat dilihat pada diagram dibawah jumlah data pada masing-masing kategori sangat seimbang."
      ]
    },
    {
      "cell_type": "code",
      "metadata": {
        "colab": {
          "base_uri": "https://localhost:8080/",
          "height": 283
        },
        "id": "8tSOXWW7ZH56",
        "outputId": "7457ec8d-8d8c-474d-c4c3-c5ffa876d360"
      },
      "source": [
        "plt.bar(\n",
        "    ['HQ', 'LQ_EDIT', 'LQ_CLOSE'],\n",
        "    df['label'].value_counts()\n",
        ")"
      ],
      "execution_count": null,
      "outputs": [
        {
          "output_type": "execute_result",
          "data": {
            "text/plain": [
              "<BarContainer object of 3 artists>"
            ]
          },
          "metadata": {},
          "execution_count": 138
        },
        {
          "output_type": "display_data",
          "data": {
            "image/png": "[encoded data removed]",
            "text/plain": [
              "<Figure size 432x288 with 1 Axes>"
            ]
          },
          "metadata": {
            "needs_background": "light"
          }
        }
      ]
    },
    {
      "cell_type": "markdown",
      "metadata": {
        "id": "bVxebPFfeCN-"
      },
      "source": [
        "Jumlah kata dalam setiap postingan terlihat cukup seimbang."
      ]
    },
    {
      "cell_type": "code",
      "metadata": {
        "id": "5JcUolCaa4KY"
      },
      "source": [
        "word_count = [\n",
        "    ['HQ', [len(x) if len(x) < 500 else 500 for x in df[df['label']=='HQ']['text'].str.split()]],\n",
        "    ['LQ_EDIT', [len(x) if len(x) < 500 else 500 for x in df[df['label']=='LQ_EDIT']['text'].str.split()]],\n",
        "    ['LQ_CLOSE', [len(x) if len(x) < 500 else 500 for x in df[df['label']=='LQ_CLOSE']['text'].str.split()]]\n",
        "]"
      ],
      "execution_count": null,
      "outputs": []
    },
    {
      "cell_type": "code",
      "metadata": {
        "colab": {
          "base_uri": "https://localhost:8080/",
          "height": 264
        },
        "id": "M2uZarq0cPg4",
        "outputId": "836c9529-419b-4301-b62e-1028a56b342a"
      },
      "source": [
        "for i, count in enumerate(word_count):\n",
        "    plt.hist(count[1], bins=50, label=count[0], alpha=0.4 + (i * 0.1))\n",
        "\n",
        "plt.legend()\n",
        "plt.show()"
      ],
      "execution_count": null,
      "outputs": [
        {
          "output_type": "display_data",
          "data": {
            "image/png": "[encoded data removed]",
            "text/plain": [
              "<Figure size 432x288 with 1 Axes>"
            ]
          },
          "metadata": {
            "needs_background": "light"
          }
        }
      ]
    },
    {
      "cell_type": "markdown",
      "metadata": {
        "id": "TFd64Ls_kctW"
      },
      "source": [
        "### N-Gram Analysis"
      ]
    },
    {
      "cell_type": "markdown",
      "metadata": {
        "id": "ZIVHoknnkjwI"
      },
      "source": [
        "Saya menggunakan n-gram untuk menganalisa isi teks dari data masing-masing kategori. Saya mengambil top 20 unigram dan bigram dari masing-masing kategori untuk mendapatkan gambaran penggunaan kata pada masing-masing kategori."
      ]
    },
    {
      "cell_type": "code",
      "metadata": {
        "id": "GYxQPJ-vb3dX"
      },
      "source": [
        "def get_top_text_ngrams(corpus, n, g):\n",
        "    vec = CountVectorizer(ngram_range=(g, g)).fit(corpus)\n",
        "    bag_of_words = vec.transform(corpus)\n",
        "    sum_words = bag_of_words.sum(axis=0) \n",
        "    words_freq = [(word, sum_words[0, idx]) for word, idx in vec.vocabulary_.items()]\n",
        "    words_freq =sorted(words_freq, key = lambda x: x[1], reverse=True)\n",
        "    \n",
        "    return words_freq[:n]"
      ],
      "execution_count": null,
      "outputs": []
    },
    {
      "cell_type": "code",
      "metadata": {
        "id": "WvX64_qGh1Yd"
      },
      "source": [
        "def display_chart(title, data, index, ax):\n",
        "    ax.set_title(title)\n",
        "    ax.bar(\n",
        "        list(data[index].keys()),\n",
        "        list(data[index].values())\n",
        "    )\n",
        "\n",
        "    for tick in ax.get_xticklabels():\n",
        "        tick.set_rotation(90)"
      ],
      "execution_count": null,
      "outputs": []
    },
    {
      "cell_type": "markdown",
      "metadata": {
        "id": "XT-rt_ZHfwZY"
      },
      "source": [
        "#### Unigram"
      ]
    },
    {
      "cell_type": "code",
      "metadata": {
        "id": "DmF1_jEgd8RN"
      },
      "source": [
        "unigram = [\n",
        "    dict(get_top_text_ngrams(\n",
        "        df[df['label'] == 'HQ']['text'].values, 20, 1\n",
        "    )),\n",
        "    dict(get_top_text_ngrams(\n",
        "        df[df['label'] == 'LQ_EDIT']['text'].values, 20, 1\n",
        "    )),\n",
        "    dict(get_top_text_ngrams(\n",
        "        df[df['label'] == 'LQ_CLOSE']['text'].values, 20, 1\n",
        "    )),\n",
        "]"
      ],
      "execution_count": null,
      "outputs": []
    },
    {
      "cell_type": "code",
      "metadata": {
        "colab": {
          "base_uri": "https://localhost:8080/",
          "height": 364
        },
        "id": "DIoRMM5ueaIg",
        "outputId": "e270995f-5e00-402e-9896-33c7da4f39fe"
      },
      "source": [
        "fig, (ax1, ax2, ax3) = plt.subplots(1, 3, figsize=(15,5))\n",
        "\n",
        "display_chart(\"HQ\", unigram, 0, ax1)\n",
        "display_chart(\"LQ_EDIT\", unigram, 1, ax2)\n",
        "display_chart(\"LQ_CLOSE\", unigram, 2, ax3)"
      ],
      "execution_count": null,
      "outputs": [
        {
          "output_type": "display_data",
          "data": {
            "image/png": "[encoded data removed]",
            "text/plain": [
              "<Figure size 1080x360 with 3 Axes>"
            ]
          },
          "metadata": {
            "needs_background": "light"
          }
        }
      ]
    },
    {
      "cell_type": "markdown",
      "metadata": {
        "id": "d56SQyUnf2th"
      },
      "source": [
        "#### Bigram"
      ]
    },
    {
      "cell_type": "code",
      "metadata": {
        "id": "aXKm6yXYf2c1"
      },
      "source": [
        "bigram = [\n",
        "    dict(get_top_text_ngrams(\n",
        "        df[df['label'] == 'HQ']['text'].values, 20, 2\n",
        "    )),\n",
        "    dict(get_top_text_ngrams(\n",
        "        df[df['label'] == 'LQ_EDIT']['text'].values, 20, 2\n",
        "    )),\n",
        "    dict(get_top_text_ngrams(\n",
        "        df[df['label'] == 'LQ_CLOSE']['text'].values, 20, 2\n",
        "    )),\n",
        "]"
      ],
      "execution_count": null,
      "outputs": []
    },
    {
      "cell_type": "code",
      "metadata": {
        "colab": {
          "base_uri": "https://localhost:8080/",
          "height": 421
        },
        "id": "2YhvjGeNf-qz",
        "outputId": "eeb3478b-22e1-4666-c0e0-536182bcfbd6"
      },
      "source": [
        "fig, (ax1, ax2, ax3) = plt.subplots(1, 3, figsize=(15,5))\n",
        "\n",
        "display_chart(\"HQ\", bigram, 0, ax1)\n",
        "display_chart(\"LQ_EDIT\", bigram, 1, ax2)\n",
        "display_chart(\"LQ_CLOSE\", bigram, 2, ax3)"
      ],
      "execution_count": null,
      "outputs": [
        {
          "output_type": "display_data",
          "data": {
            "image/png": "[encoded data removed]",
            "text/plain": [
              "<Figure size 1080x360 with 3 Axes>"
            ]
          },
          "metadata": {
            "needs_background": "light"
          }
        }
      ]
    },
    {
      "cell_type": "markdown",
      "metadata": {
        "id": "W-B7jqvIXz2H"
      },
      "source": [
        "## Data Preparation"
      ]
    },
    {
      "cell_type": "markdown",
      "metadata": {
        "id": "pgL7dtknaQ8E"
      },
      "source": [
        "Melihat apakah terdapat data kosong pada data set"
      ]
    },
    {
      "cell_type": "code",
      "metadata": {
        "colab": {
          "base_uri": "https://localhost:8080/"
        },
        "id": "0WYiSJJraO8t",
        "outputId": "2daac7a6-28ea-4ff7-910a-5e3409469d39"
      },
      "source": [
        "df.isna().sum()"
      ],
      "execution_count": null,
      "outputs": [
        {
          "output_type": "execute_result",
          "data": {
            "text/plain": [
              "label    0\n",
              "text     0\n",
              "dtype: int64"
            ]
          },
          "metadata": {},
          "execution_count": 148
        }
      ]
    },
    {
      "cell_type": "markdown",
      "metadata": {
        "id": "-uvbWbqSfBay"
      },
      "source": [
        "Seperti yang kita lihat pada bagian *Data Understanding*, data yang saya miliki memiliki format *html*. Oleh karena itu teks tersebut perlu dibersihkan dari simbol dan *tag html*, dan membuat semua huruf didalamnya menjadi huruf kecil. Jika teks berada dalam huruf besar/kecil yang sama, lebih mudah bagi mesin untuk menafsirkan kata-kata karena huruf kecil dan huruf besar diperlakukan berbeda oleh mesin."
      ]
    },
    {
      "cell_type": "code",
      "metadata": {
        "id": "1fQBWRYbe-Hj"
      },
      "source": [
        "def clean_text(text):\n",
        "    text = text.lower()\n",
        "    text = re.sub(r'[^(a-zA-Z)\\s]','', text)\n",
        "    return text\n",
        "    \n",
        "df['text'] = df['text'].apply(clean_text)"
      ],
      "execution_count": null,
      "outputs": []
    },
    {
      "cell_type": "markdown",
      "metadata": {
        "id": "4bPNBS9GgCvQ"
      },
      "source": [
        "***Label encoding***, metode ini mengacu pada pengubahan label menjadi bentuk numerik untuk mengubahnya menjadi bentuk yang dapat dibaca mesin. Algoritma machine learning kemudian dapat memutuskan dengan cara yang lebih baik bagaimana label tersebut harus dioperasikan."
      ]
    },
    {
      "cell_type": "code",
      "metadata": {
        "id": "M_90788Lfq7Y"
      },
      "source": [
        "label_encoder = preprocessing.LabelEncoder() \n",
        "df['label'] = label_encoder.fit_transform(df['label'])  "
      ],
      "execution_count": null,
      "outputs": []
    },
    {
      "cell_type": "markdown",
      "metadata": {
        "id": "BGXYpydMgdwH"
      },
      "source": [
        "Hasil akhir dari data yang telah diproses adalah sebagai berikut, terlhiat label yang digunakan pada data sudah tidak berbentuk teks melainkan dalam bentuk angka. Lalu, pada teks sudah tidak terlihat simbol ataupun tag dari *html*."
      ]
    },
    {
      "cell_type": "code",
      "metadata": {
        "colab": {
          "base_uri": "https://localhost:8080/",
          "height": 202
        },
        "id": "8BJKh0qNs98G",
        "outputId": "ad048a43-939a-43eb-a5e2-097cae3ba8e7"
      },
      "source": [
        "df.head()"
      ],
      "execution_count": null,
      "outputs": [
        {
          "output_type": "execute_result",
          "data": {
            "text/html": [
              "<div>\n",
              "<style scoped>\n",
              "    .dataframe tbody tr th:only-of-type {\n",
              "        vertical-align: middle;\n",
              "    }\n",
              "\n",
              "    .dataframe tbody tr th {\n",
              "        vertical-align: top;\n",
              "    }\n",
              "\n",
              "    .dataframe thead th {\n",
              "        text-align: right;\n",
              "    }\n",
              "</style>\n",
              "<table border=\"1\" class=\"dataframe\">\n",
              "  <thead>\n",
              "    <tr style=\"text-align: right;\">\n",
              "      <th></th>\n",
              "      <th>label</th>\n",
              "      <th>text</th>\n",
              "    </tr>\n",
              "  </thead>\n",
              "  <tbody>\n",
              "    <tr>\n",
              "      <th>0</th>\n",
              "      <td>1</td>\n",
              "      <td>java repeat task every random seconds pim alre...</td>\n",
              "    </tr>\n",
              "    <tr>\n",
              "      <th>1</th>\n",
              "      <td>0</td>\n",
              "      <td>why are java optionals immutable pid like to u...</td>\n",
              "    </tr>\n",
              "    <tr>\n",
              "      <th>2</th>\n",
              "      <td>0</td>\n",
              "      <td>text overlay image with darkened opacity react...</td>\n",
              "    </tr>\n",
              "    <tr>\n",
              "      <th>3</th>\n",
              "      <td>0</td>\n",
              "      <td>why ternary operator in swift is so picky pthe...</td>\n",
              "    </tr>\n",
              "    <tr>\n",
              "      <th>4</th>\n",
              "      <td>0</td>\n",
              "      <td>hideshow fab with scale animation pim using cu...</td>\n",
              "    </tr>\n",
              "  </tbody>\n",
              "</table>\n",
              "</div>"
            ],
            "text/plain": [
              "   label                                               text\n",
              "0      1  java repeat task every random seconds pim alre...\n",
              "1      0  why are java optionals immutable pid like to u...\n",
              "2      0  text overlay image with darkened opacity react...\n",
              "3      0  why ternary operator in swift is so picky pthe...\n",
              "4      0  hideshow fab with scale animation pim using cu..."
            ]
          },
          "metadata": {},
          "execution_count": 159
        }
      ]
    },
    {
      "cell_type": "code",
      "metadata": {
        "colab": {
          "base_uri": "https://localhost:8080/"
        },
        "id": "BQ6HUyJAtAa-",
        "outputId": "7bd952d3-682f-4050-91a4-95fdd7e7fb36"
      },
      "source": [
        "df['label'].unique()"
      ],
      "execution_count": null,
      "outputs": [
        {
          "output_type": "execute_result",
          "data": {
            "text/plain": [
              "array([1, 0, 2])"
            ]
          },
          "metadata": {},
          "execution_count": 160
        }
      ]
    },
    {
      "cell_type": "markdown",
      "metadata": {
        "id": "Zl3WWngY7TcS"
      },
      "source": [
        "Membagi dataset menjadi 2 bagian, yaitu: *training dataset* dan *validation dataset*. *Training dataset* digunakan untuk melatih model terhadap data, sedangkan *validation dataset* digunakan untuk mengevaluasi kemampuan dari model dalam memprediksi data."
      ]
    },
    {
      "cell_type": "code",
      "metadata": {
        "id": "_QPHflrigcra"
      },
      "source": [
        "x_train, x_test, y_train, y_test = train_test_split(\n",
        "    df['text'], \n",
        "    df['label'], \n",
        "    test_size=0.2, \n",
        "    random_state=42, \n",
        "    stratify=df['label']\n",
        ")"
      ],
      "execution_count": null,
      "outputs": []
    },
    {
      "cell_type": "markdown",
      "metadata": {
        "id": "c6nzRLyvCHGN"
      },
      "source": [
        "### Tokenizing"
      ]
    },
    {
      "cell_type": "markdown",
      "metadata": {
        "id": "aagoBjfvCJMm"
      },
      "source": [
        "tokenisasi adalah proses untuk membagi teks yang dapat berupa kalimat, paragraf atau dokumen, menjadi token-token/bagian-bagian tertentu. Masing-masing *token* dalam teks tersebut kemudian akan diproses lagi menggunakan *TF-IDF* untuk memberikan informasi kepada model bobot dari setiap *token*."
      ]
    },
    {
      "cell_type": "markdown",
      "metadata": {
        "id": "44Poz7UKJ14e"
      },
      "source": [
        "*TF-IDF* adalah suatu metode algoritma yang berguna untuk menghitung bobot setiap kata yang umum digunakan. Metode ini juga terkenal efisien, mudah dan memiliki hasil yang akurat. Metode ini akan menghitung nilai *Term Frequency* (*TF*) dan *Inverse Document Frequency* (*IDF*) pada setiap token (kata) di setiap dokumen dalam korpus. Secara sederhana, metode *TF-IDF* digunakan untuk mengetahui berapa sering suatu kata muncul di dalam dokumen."
      ]
    },
    {
      "cell_type": "code",
      "metadata": {
        "id": "kj-DBy2b7kyH"
      },
      "source": [
        "max_features = 10000"
      ],
      "execution_count": null,
      "outputs": []
    },
    {
      "cell_type": "code",
      "metadata": {
        "id": "ikXVooaA7qg6"
      },
      "source": [
        "tokenizer = text.Tokenizer(num_words=max_features)"
      ],
      "execution_count": null,
      "outputs": []
    },
    {
      "cell_type": "code",
      "metadata": {
        "id": "6OcbDDv8C5eM"
      },
      "source": [
        "# Menyesuaikan tokenizer dengan training dataset\n",
        "tokenizer.fit_on_texts(x_train)"
      ],
      "execution_count": null,
      "outputs": []
    },
    {
      "cell_type": "code",
      "metadata": {
        "id": "Y4W3Lk0TC8SP"
      },
      "source": [
        "# mengaplikasikan tokenization terhadap training dataset\n",
        "tokenized_train = tokenizer.texts_to_sequences(x_train)\n",
        "\n",
        "# mengaplikasikan tf-idf terhadap data yang sudah ditokenisasi (Logistic Regression)\n",
        "x_tfidf_train = tokenizer.sequences_to_matrix(tokenized_train, mode='tfidf')"
      ],
      "execution_count": null,
      "outputs": []
    },
    {
      "cell_type": "code",
      "metadata": {
        "id": "yVJo8achC923"
      },
      "source": [
        "# mengaplikasikan tokenization terhadap validation dataset\n",
        "tokenized_test = tokenizer.texts_to_sequences(x_test)\n",
        "\n",
        "# mengaplikasikan tf-idf terhadap data yang sudah ditokenisasi (Logistic Regression)\n",
        "X_tfidf_test = tokenizer.sequences_to_matrix(tokenized_test, mode='tfidf')"
      ],
      "execution_count": null,
      "outputs": []
    },
    {
      "cell_type": "markdown",
      "metadata": {
        "id": "vDquMi0OEWb8"
      },
      "source": [
        "## Modelling"
      ]
    },
    {
      "cell_type": "markdown",
      "metadata": {
        "id": "taBwtY0MEap3"
      },
      "source": [
        "### Logistic Regression"
      ]
    },
    {
      "cell_type": "markdown",
      "metadata": {
        "id": "mGJrB9EvFJA9"
      },
      "source": [
        "\n",
        "\n",
        "> Logistic Regression\n",
        "\n",
        "*Logistic Regression* merupakan salah satu metode yang dapat digunakan untuk mencari hubungan variabel respon yang bersifat dichotomous (berskala nominal atau ordinal dengan dua kategori) atau polychotomous (mempunyai skala nominal atau ordinal dengan lebih dari dua kategori) dengan satu atau lebih variabel prediktor dan variabel respon bersifat kontinyu atau kategorik.\n",
        "\n",
        "> Multinomial Logistic Regression\n",
        "\n",
        "*Multinomial logistic regression* atau disebut juga model logit politomus adalah model regresi yang digunakan untuk menyelesaikan kasus regresi dengan variabel dependen berupa data kualitatif berbentuk multinomial (lebih dari dua kategori) dengan satu atau lebih variabel independen\n",
        "\n",
        "sumber: https://medium.com/@wahyudhizainal/analisis-regresi-logistik-multinomial-dengan-spss-cb65fb246b69"
      ]
    },
    {
      "cell_type": "code",
      "metadata": {
        "id": "8oOv7V9pFnht"
      },
      "source": [
        "# define multinomial logistic regression model\n",
        "lr_model = LogisticRegression(multi_class='multinomial')"
      ],
      "execution_count": null,
      "outputs": []
    },
    {
      "cell_type": "code",
      "metadata": {
        "colab": {
          "base_uri": "https://localhost:8080/"
        },
        "id": "5xDY-eg-LHo7",
        "outputId": "5fbd85c3-08ea-439e-800b-a9163afe623c"
      },
      "source": [
        "# train model towards TF-IDF dataset\n",
        "lr_model.fit(x_tfidf_train, y_train)"
      ],
      "execution_count": null,
      "outputs": [
        {
          "output_type": "stream",
          "name": "stderr",
          "text": [
            "/usr/local/lib/python3.7/dist-packages/sklearn/linear_model/_logistic.py:940: ConvergenceWarning: lbfgs failed to converge (status=1):\n",
            "STOP: TOTAL NO. of ITERATIONS REACHED LIMIT.\n",
            "\n",
            "Increase the number of iterations (max_iter) or scale the data as shown in:\n",
            "    https://scikit-learn.org/stable/modules/preprocessing.html\n",
            "Please also refer to the documentation for alternative solver options:\n",
            "    https://scikit-learn.org/stable/modules/linear_model.html#logistic-regression\n",
            "  extra_warning_msg=_LOGISTIC_SOLVER_CONVERGENCE_MSG)\n"
          ]
        },
        {
          "output_type": "execute_result",
          "data": {
            "text/plain": [
              "LogisticRegression(C=1.0, class_weight=None, dual=False, fit_intercept=True,\n",
              "                   intercept_scaling=1, l1_ratio=None, max_iter=100,\n",
              "                   multi_class='multinomial', n_jobs=None, penalty='l2',\n",
              "                   random_state=None, solver='lbfgs', tol=0.0001, verbose=0,\n",
              "                   warm_start=False)"
            ]
          },
          "metadata": {},
          "execution_count": 168
        }
      ]
    },
    {
      "cell_type": "markdown",
      "metadata": {
        "id": "To6JPFbNYsH0"
      },
      "source": [
        "### Naive Bayes"
      ]
    },
    {
      "cell_type": "markdown",
      "metadata": {
        "id": "DJpXuLQ6mb-S"
      },
      "source": [
        "Metode Multinomial Naive Bayes merupakan variasi lain dari Naive Bayes. Metode ini mengasumsikan bahwa semua atribut saling bergantung satu sama lain mengingat konteks kelas, dan mengabaikan semua dependensi antar atribut (Saleh, A. 2014)."
      ]
    },
    {
      "cell_type": "code",
      "metadata": {
        "id": "_OKVLsyUAVvM"
      },
      "source": [
        "nb_model = MultinomialNB()"
      ],
      "execution_count": null,
      "outputs": []
    },
    {
      "cell_type": "code",
      "metadata": {
        "colab": {
          "base_uri": "https://localhost:8080/"
        },
        "id": "zq1U2zVWY69c",
        "outputId": "9d6ecd4c-a39d-4581-ec86-fb63f313b187"
      },
      "source": [
        "nb_model.fit(x_tfidf_train, y_train)"
      ],
      "execution_count": null,
      "outputs": [
        {
          "output_type": "execute_result",
          "data": {
            "text/plain": [
              "MultinomialNB(alpha=1.0, class_prior=None, fit_prior=True)"
            ]
          },
          "metadata": {},
          "execution_count": 170
        }
      ]
    },
    {
      "cell_type": "markdown",
      "metadata": {
        "id": "NWanHvudoBUx"
      },
      "source": [
        "## Evaluation"
      ]
    },
    {
      "cell_type": "markdown",
      "metadata": {
        "id": "xSTYB7EAocZJ"
      },
      "source": [
        "### Logistic Regression"
      ]
    },
    {
      "cell_type": "markdown",
      "metadata": {
        "id": "0LeWTzhDptbX"
      },
      "source": [
        "Setelah dites terhadap dataset test yang diperlakukan sama dengan training dataset, model logistic regression berhasil mendapatkan tingkat akurasi yang cukup baik yaitu sebesar 87,30%."
      ]
    },
    {
      "cell_type": "code",
      "metadata": {
        "colab": {
          "base_uri": "https://localhost:8080/"
        },
        "id": "3gBaUkoeoDDM",
        "outputId": "2e718ba4-c2e7-499f-f658-c4c2f4a2dc99"
      },
      "source": [
        "print(f\"Test Accuracy: {(lr_model.score(X_tfidf_test, y_test)) * 100:.2f}%\")"
      ],
      "execution_count": null,
      "outputs": [
        {
          "output_type": "stream",
          "name": "stdout",
          "text": [
            "Test Accuracy: 87.30%\n"
          ]
        }
      ]
    },
    {
      "cell_type": "markdown",
      "metadata": {
        "id": "8WWyL3gtp7d5"
      },
      "source": [
        "Lalu, jika kita menganalisa hasil prediksi model terhadap label data menggunakan confusion matrix. Terlihat bahwa model dapat memprediksi kategori 2 (LQ_EDIT) dengan sangat baik, tetapi model cukup kebingungan dalam memprediksi beberapa data kategori 0 (HQ) dan 1 (LQ_CLOSE).\n",
        "\n",
        "Jika kita kembali melihat pada gambar unigram dan bigram kategori 0 (HQ) dan 1 (LQ_CLOSE) memang terlihat kemiripan diantara keduanya. Namun, jumlah data yang diprediksi oleh model dengan benar masih cukup baik."
      ]
    },
    {
      "cell_type": "code",
      "metadata": {
        "colab": {
          "base_uri": "https://localhost:8080/",
          "height": 296
        },
        "id": "5PsUxcl3oouY",
        "outputId": "989b426a-f09e-4a86-d1a6-876d72870a65"
      },
      "source": [
        "plot_confusion_matrix(lr_model, X_tfidf_test, y_test)"
      ],
      "execution_count": null,
      "outputs": [
        {
          "output_type": "execute_result",
          "data": {
            "text/plain": [
              "<sklearn.metrics._plot.confusion_matrix.ConfusionMatrixDisplay at 0x7ff250cca110>"
            ]
          },
          "metadata": {},
          "execution_count": 172
        },
        {
          "output_type": "display_data",
          "data": {
            "image/png": "[encoded data removed]",
            "text/plain": [
              "<Figure size 432x288 with 2 Axes>"
            ]
          },
          "metadata": {
            "needs_background": "light"
          }
        }
      ]
    },
    {
      "cell_type": "markdown",
      "metadata": {
        "id": "llgA7ikiuSBe"
      },
      "source": [
        "Keterangan:\n",
        "- 0 = HQ\n",
        "- 1 = LQ_CLOSE\n",
        "- 2 = LQ_EDIT"
      ]
    },
    {
      "cell_type": "code",
      "metadata": {
        "colab": {
          "base_uri": "https://localhost:8080/"
        },
        "id": "ZqSYekHQEXXD",
        "outputId": "88070502-5da0-480c-cc11-f3a31b9b9518"
      },
      "source": [
        "precision_recall_fscore_support(y_test, lr_model.predict(X_tfidf_test))"
      ],
      "execution_count": 208,
      "outputs": [
        {
          "output_type": "execute_result",
          "data": {
            "text/plain": [
              "(array([0.82622869, 0.8117207 , 0.9810095 ]),\n",
              " array([0.82375, 0.81375, 0.9815 ]),\n",
              " array([0.82498748, 0.81273408, 0.98125469]),\n",
              " array([4000, 4000, 4000]))"
            ]
          },
          "metadata": {},
          "execution_count": 208
        }
      ]
    },
    {
      "cell_type": "markdown",
      "metadata": {
        "id": "UiyjoP-lpZ8m"
      },
      "source": [
        "### Naive Bayes"
      ]
    },
    {
      "cell_type": "markdown",
      "metadata": {
        "id": "NdGpw6ZKvzgC"
      },
      "source": [
        "Setelah dites terhadap dataset test yang diperlakukan sama dengan training dataset, model naive bayes berhasil mendapatkan tingkat akurasi yang cukup baik yaitu sebesar 86,37%. Akurasi tersebut sedikit lebih kecil dari tingkat akurasi dari model logistic regression."
      ]
    },
    {
      "cell_type": "code",
      "metadata": {
        "colab": {
          "base_uri": "https://localhost:8080/"
        },
        "id": "KYS0NooTo8V9",
        "outputId": "d235c54c-4be5-41cd-fc14-9fa9c4c6e7fd"
      },
      "source": [
        "print(f\"Test Accuracy: {(nb_model.score(X_tfidf_test, y_test)) * 100:.2f}%\")"
      ],
      "execution_count": null,
      "outputs": [
        {
          "output_type": "stream",
          "name": "stdout",
          "text": [
            "Test Accuracy: 86.37%\n"
          ]
        }
      ]
    },
    {
      "cell_type": "markdown",
      "metadata": {
        "id": "jn87H2owwAX5"
      },
      "source": [
        "Lalu, jika kita menganalisa hasil prediksi model terhadap label data menggunakan confusion matrix. Terlihat bahwa model dapat memprediksi kategori 2 (LQ_EDIT) dengan sangat baik, tetapi saat model memprediksi data kategori 0 (HQ) dan 1 (LQ_CLOSE) model cukup kebingungan dalam membedakan beberapa data kategori 0 (HQ) dan 1 (LQ_CLOSE). Dan model juga melakukan kesalahan pada data kategori 0 (HQ) dan 1 (LQ_CLOSE) dengan memprediksinya sebagai data kategori 2 (HQ_EDIT) walau lebih sedikit daripada antara kategori 0 (HQ) dan 1 (LQ_EDIT).\n",
        "\n",
        "Jika kita kembali melihat pada gambar unigram dan bigram kategori 0 (HQ) dan 1 (LQ_CLOSE) memang terlihat kemiripan diantara keduanya. Namun, jumlah data yang diprediksi oleh model dengan benar masih cukup baik."
      ]
    },
    {
      "cell_type": "code",
      "metadata": {
        "colab": {
          "base_uri": "https://localhost:8080/",
          "height": 296
        },
        "id": "aJDca1ltpgr7",
        "outputId": "415f2ad5-e023-40d4-bf35-ddd5fc96351b"
      },
      "source": [
        "plot_confusion_matrix(nb_model, X_tfidf_test, y_test)"
      ],
      "execution_count": null,
      "outputs": [
        {
          "output_type": "execute_result",
          "data": {
            "text/plain": [
              "<sklearn.metrics._plot.confusion_matrix.ConfusionMatrixDisplay at 0x7ff2533fb890>"
            ]
          },
          "metadata": {},
          "execution_count": 174
        },
        {
          "output_type": "display_data",
          "data": {
            "image/png": "[encoded data removed]",
            "text/plain": [
              "<Figure size 432x288 with 2 Axes>"
            ]
          },
          "metadata": {
            "needs_background": "light"
          }
        }
      ]
    },
    {
      "cell_type": "markdown",
      "metadata": {
        "id": "l3mEMvRyuZKf"
      },
      "source": [
        "Keterangan:\n",
        "- 0 = HQ\n",
        "- 1 = LQ_CLOSE\n",
        "- 2 = LQ_EDIT"
      ]
    },
    {
      "cell_type": "code",
      "metadata": {
        "colab": {
          "base_uri": "https://localhost:8080/"
        },
        "id": "BxJuJ9nnEon8",
        "outputId": "dbbaa489-af4a-4945-d4b6-69b32ee17fc4"
      },
      "source": [
        "precision_recall_fscore_support(y_test, nb_model.predict(X_tfidf_test))"
      ],
      "execution_count": 209,
      "outputs": [
        {
          "output_type": "execute_result",
          "data": {
            "text/plain": [
              "(array([0.7987028 , 0.81881882, 0.9883374 ]),\n",
              " array([0.862, 0.818, 0.911]),\n",
              " array([0.82914512, 0.8184092 , 0.94809418]),\n",
              " array([4000, 4000, 4000]))"
            ]
          },
          "metadata": {},
          "execution_count": 209
        }
      ]
    },
    {
      "cell_type": "markdown",
      "metadata": {
        "id": "9mTSfyXIpqQ2"
      },
      "source": [
        "## Kesimpulan"
      ]
    },
    {
      "cell_type": "markdown",
      "metadata": {
        "id": "ynlngE3IpsHk"
      },
      "source": [
        "- Model logistic regression dapat memprediksi data lebih baik dari pada model naive bayes. Hal ini dapat dilihat dari tingkat akurasi logistic regression yang sedikit lebih tinggi dari model naive bayes. Hal tersebut juga dapat dilihat dimana model naive bayes melakukan jauh lebih banyak kesalahan dalam memprediksi label HQ dan LQ_CLOSE menjadi label LQ_EDIT.\n",
        "- Model machine learning dapat memprediksi kualitas pertanyaan pada *Stack Overflow* dengan cukup baik.\n",
        "- Model machine learning bisa menjadi salah satu solusi dalam memberikan masukan untuk melakukan keputusan terhadap suatu postingan di *Stack Overflow*."
      ]
    }
  ]
}